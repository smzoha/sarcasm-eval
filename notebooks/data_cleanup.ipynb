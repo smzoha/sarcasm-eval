{
 "cells": [
  {
   "cell_type": "code",
   "execution_count": 1,
   "id": "initial_id",
   "metadata": {
    "collapsed": true,
    "ExecuteTime": {
     "end_time": "2023-09-07T11:53:56.906644Z",
     "start_time": "2023-09-07T11:53:56.894625800Z"
    }
   },
   "outputs": [],
   "source": [
    "# Data must be loaded in 'data' directory of the workspace\n",
    "# Run `pip install emoji` in terminal for downloading emoji package used in this project"
   ]
  },
  {
   "cell_type": "code",
   "execution_count": 3,
   "outputs": [],
   "source": [
    "import pandas as pd\n",
    "import os.path\n",
    "import emoji\n",
    "import nltk"
   ],
   "metadata": {
    "collapsed": false,
    "ExecuteTime": {
     "end_time": "2023-09-22T13:48:33.301742900Z",
     "start_time": "2023-09-22T13:48:32.005918300Z"
    }
   },
   "id": "8d3dbb262bcdbb24"
  },
  {
   "cell_type": "code",
   "execution_count": 4,
   "outputs": [
    {
     "name": "stderr",
     "output_type": "stream",
     "text": [
      "[nltk_data] Downloading package stopwords to C:\\Users\\Shamah M\n",
      "[nltk_data]     Zoha\\AppData\\Roaming\\nltk_data...\n",
      "[nltk_data]   Package stopwords is already up-to-date!\n"
     ]
    },
    {
     "data": {
      "text/plain": "True"
     },
     "execution_count": 4,
     "metadata": {},
     "output_type": "execute_result"
    }
   ],
   "source": [
    "# Downloading stopwords from ntlk\n",
    "nltk.download('stopwords')"
   ],
   "metadata": {
    "collapsed": false,
    "ExecuteTime": {
     "end_time": "2023-09-22T13:48:33.775327400Z",
     "start_time": "2023-09-22T13:48:33.301742900Z"
    }
   },
   "id": "656ea4be2465b5d4"
  },
  {
   "cell_type": "code",
   "execution_count": 5,
   "outputs": [],
   "source": [
    "# Since the dataframe is being altered (e.g. for dropna, adding space between emoji), the warning is being disabled\n",
    "pd.options.mode.chained_assignment = None"
   ],
   "metadata": {
    "collapsed": false,
    "ExecuteTime": {
     "end_time": "2023-09-22T13:48:36.175811900Z",
     "start_time": "2023-09-22T13:48:36.148164800Z"
    }
   },
   "id": "4793e730c194c002"
  },
  {
   "cell_type": "code",
   "execution_count": 6,
   "outputs": [],
   "source": [
    "# Load stopwords into `words` variable for future use \n",
    " \n",
    "from nltk.corpus import stopwords\n",
    "\n",
    "words = set(stopwords.words('english'))"
   ],
   "metadata": {
    "collapsed": false,
    "ExecuteTime": {
     "end_time": "2023-09-22T13:48:39.614021Z",
     "start_time": "2023-09-22T13:48:39.600924400Z"
    }
   },
   "id": "caca9e523b2e9736"
  },
  {
   "cell_type": "code",
   "execution_count": 7,
   "outputs": [],
   "source": [
    "# Define function for data cleanup\n",
    "# Takes in the dataframe and the column name for which data needs to be processed\n",
    "# Involves removing empty rows, add spacing between emojis (via encode_emoji) method, removing stopwords, removing unwanted characters, and dropping duplicates\n",
    "\n",
    "def process_dataset(data, attr):\n",
    "    print('Empty Row Count:', data[attr].isna().sum())\n",
    "    data = drop_empty(data)\n",
    "    print('Empty Row Count:', data[attr].isna().sum())\n",
    "\n",
    "    print('Encoding Emoji')\n",
    "    encode_emoji(data, attr)\n",
    "\n",
    "    print('Removing stopwords')\n",
    "    remove_stopwords(data, attr)\n",
    "\n",
    "    print('Cleaning-up Unwanted Symbols')\n",
    "    data_cleanup(data, attr)\n",
    "\n",
    "    print('Removing potential duplicates')\n",
    "    data = data.drop_duplicates()\n",
    "\n",
    "    return data\n",
    "\n",
    "def drop_empty(data):\n",
    "    print('Dropping Empty Rows')\n",
    "    data = data.dropna()\n",
    "    data = data.reset_index()\n",
    "    return data\n",
    "\n",
    "\n",
    "def encode_emoji(data, attr):\n",
    "    for idx in range(0, len(data)):\n",
    "        data[attr][idx] = ''.join(' ' + e + ' ' if emoji.is_emoji(e) else e for e in data[attr][idx])\n",
    "\n",
    "\n",
    "def data_cleanup(data, attr):\n",
    "    data[attr] = data[attr].str.replace('\\n', ' ')\n",
    "    data[attr] = data[attr].str.replace('(http|https)[\\\\S]+', '', regex=True)\n",
    "    data[attr] = data[attr].str.replace('(@\\\\S+)', '', regex=True)\n",
    "    data[attr] = data[attr].str.replace('[^a-zA-Z\\\\s]', '', regex=True)\n",
    "    data[attr] = data[attr].str.lower()\n",
    "\n",
    "\n",
    "def remove_stopwords(df, attr):\n",
    "    df[attr] = df[attr].apply(lambda t: ' '.join([w for w in t.split() if w not in words]))"
   ],
   "metadata": {
    "collapsed": false,
    "ExecuteTime": {
     "end_time": "2023-09-22T13:48:41.626562800Z",
     "start_time": "2023-09-22T13:48:41.622742Z"
    }
   },
   "id": "191180d3af8343a"
  },
  {
   "cell_type": "code",
   "execution_count": 9,
   "outputs": [
    {
     "name": "stdout",
     "output_type": "stream",
     "text": [
      "Row Count: 3468\n",
      "Row Count: 1400\n",
      "Row Count: 1400\n"
     ]
    }
   ],
   "source": [
    "# Load training & test data into dataframes\n",
    "train_data = pd.read_csv('../data/train.En.csv')\n",
    "print('Row Count:', len(train_data))\n",
    "\n",
    "test_data_a = pd.read_csv('../data/task_A_En_test.csv')\n",
    "print('Row Count:', len(test_data_a))\n",
    "\n",
    "test_data_b = pd.read_csv('../data/task_B_En_test.csv')\n",
    "print('Row Count:', len(test_data_b))"
   ],
   "metadata": {
    "collapsed": false,
    "ExecuteTime": {
     "end_time": "2023-09-22T13:48:57.175321400Z",
     "start_time": "2023-09-22T13:48:57.078962900Z"
    }
   },
   "id": "883ced3f545436ba"
  },
  {
   "cell_type": "code",
   "execution_count": 8,
   "outputs": [
    {
     "name": "stdout",
     "output_type": "stream",
     "text": [
      "Empty Row Count: 1\n",
      "Dropping Empty Rows\n",
      "Empty Row Count: 0\n",
      "Encoding Emoji\n",
      "Removing stopwords\n",
      "Cleaning-up Unwanted Symbols\n",
      "Removing potential duplicates\n",
      "=================================================\n",
      "Processing Test Data for Task A\n",
      "Empty Row Count: 0\n",
      "Dropping Empty Rows\n",
      "Empty Row Count: 0\n",
      "Encoding Emoji\n",
      "Removing stopwords\n",
      "Cleaning-up Unwanted Symbols\n",
      "Removing potential duplicates\n"
     ]
    }
   ],
   "source": [
    "# Process train data for Task A\n",
    "train_data_a = train_data[['tweet', 'sarcastic']]\n",
    "train_data_a = process_dataset(train_data_a, 'tweet')\n",
    "\n",
    "print('=================================================')\n",
    "\n",
    "# Process test data for Task A\n",
    "print('Processing Test Data for Task A')\n",
    "processed_test_data_a = test_data_a[['text', 'sarcastic']]\n",
    "processed_test_data_a.rename(columns={'text': 'tweet'}, inplace=True)\n",
    "processed_test_data_a = process_dataset(processed_test_data_a, 'tweet')"
   ],
   "metadata": {
    "collapsed": false,
    "ExecuteTime": {
     "end_time": "2023-09-07T11:53:59.992159500Z",
     "start_time": "2023-09-07T11:53:59.306230500Z"
    }
   },
   "id": "ec8ed8605ba74ef8"
  },
  {
   "cell_type": "code",
   "execution_count": 9,
   "outputs": [
    {
     "name": "stdout",
     "output_type": "stream",
     "text": [
      "Empty Row Count: 2601\n",
      "Dropping Empty Rows\n",
      "Empty Row Count: 0\n",
      "Encoding Emoji\n",
      "Removing stopwords\n",
      "Cleaning-up Unwanted Symbols\n",
      "Removing potential duplicates\n",
      "=================================================\n",
      "Empty Row Count: 0\n",
      "Dropping Empty Rows\n",
      "Empty Row Count: 0\n",
      "Encoding Emoji\n",
      "Removing stopwords\n",
      "Cleaning-up Unwanted Symbols\n",
      "Removing potential duplicates\n"
     ]
    }
   ],
   "source": [
    "# Process train data for Task B\n",
    "train_data_b = train_data[\n",
    "    ['rephrase', 'sarcasm', 'irony', 'satire', 'understatement', 'overstatement', 'rhetorical_question']]\n",
    "\n",
    "train_data_b = process_dataset(train_data_b, 'rephrase')\n",
    "\n",
    "print(\"=================================================\")\n",
    "\n",
    "# Process test data for Task B\n",
    "processed_test_data_b = test_data_b[\n",
    "    ['text', 'sarcasm', 'irony', 'satire', 'understatement', 'overstatement', 'rhetorical_question']]\n",
    "processed_test_data_b.rename(columns={'text': 'rephrase'}, inplace=True)\n",
    "processed_test_data_b = process_dataset(processed_test_data_b, 'rephrase')"
   ],
   "metadata": {
    "collapsed": false,
    "ExecuteTime": {
     "end_time": "2023-09-07T11:54:00.296489100Z",
     "start_time": "2023-09-07T11:53:59.990157100Z"
    }
   },
   "id": "ebe98eeb3818e66c"
  },
  {
   "cell_type": "code",
   "execution_count": 10,
   "outputs": [
    {
     "name": "stdout",
     "output_type": "stream",
     "text": [
      "File creation successful!\n"
     ]
    }
   ],
   "source": [
    "# Write processed datasets to separate files in `clean_data` directory\n",
    "if not os.path.exists('clean_data'):\n",
    "    os.mkdir('clean_data')\n",
    "\n",
    "train_data_a.to_csv('../clean_data/train_task_a.csv', index=False)\n",
    "processed_test_data_a.to_csv('../clean_data/test_task_a.csv', index=False)\n",
    "\n",
    "train_data_b.to_csv('../clean_data/train_task_b.csv', index=False)\n",
    "processed_test_data_b.to_csv('../clean_data/test_task_b.csv', index=False)\n",
    "\n",
    "print('File creation successful!')"
   ],
   "metadata": {
    "collapsed": false,
    "ExecuteTime": {
     "end_time": "2023-09-07T11:54:00.452907100Z",
     "start_time": "2023-09-07T11:54:00.289985Z"
    }
   },
   "id": "6398227e3548329b"
  },
  {
   "cell_type": "code",
   "execution_count": 10,
   "outputs": [],
   "source": [],
   "metadata": {
    "collapsed": false,
    "ExecuteTime": {
     "end_time": "2023-09-07T11:54:00.452907100Z",
     "start_time": "2023-09-07T11:54:00.447330700Z"
    }
   },
   "id": "56348addaf393a78"
  }
 ],
 "metadata": {
  "kernelspec": {
   "display_name": "Python 3",
   "language": "python",
   "name": "python3"
  },
  "language_info": {
   "codemirror_mode": {
    "name": "ipython",
    "version": 2
   },
   "file_extension": ".py",
   "mimetype": "text/x-python",
   "name": "python",
   "nbconvert_exporter": "python",
   "pygments_lexer": "ipython2",
   "version": "2.7.6"
  }
 },
 "nbformat": 4,
 "nbformat_minor": 5
}
