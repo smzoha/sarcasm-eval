{
 "cells": [
  {
   "cell_type": "code",
   "execution_count": 2,
   "id": "initial_id",
   "metadata": {
    "collapsed": true,
    "ExecuteTime": {
     "end_time": "2023-09-07T12:01:24.334345800Z",
     "start_time": "2023-09-07T12:01:20.697453800Z"
    }
   },
   "outputs": [],
   "source": [
    "import numpy as np\n",
    "import pandas as pd\n",
    "import tensorflow as tf\n",
    "import matplotlib.pyplot as plt\n",
    "\n",
    "from sklearn.model_selection import train_test_split"
   ]
  },
  {
   "cell_type": "code",
   "execution_count": 3,
   "outputs": [],
   "source": [
    "# Read train & test data from `clean_data` directory\n",
    "train_data = pd.read_csv('../clean_data/train_task_a.csv')\n",
    "test_data = pd.read_csv('../clean_data/test_task_a.csv')"
   ],
   "metadata": {
    "collapsed": false,
    "ExecuteTime": {
     "end_time": "2023-09-07T12:01:24.349374700Z",
     "start_time": "2023-09-07T12:01:24.335345700Z"
    }
   },
   "id": "82985ac3fa92add"
  },
  {
   "cell_type": "code",
   "execution_count": 4,
   "outputs": [
    {
     "name": "stdout",
     "output_type": "stream",
     "text": [
      "sarcastic\n",
      "0    2600\n",
      "1     867\n",
      "Name: sarcastic, dtype: int64\n"
     ]
    }
   ],
   "source": [
    "# Sarcastic Tweet Count\n",
    "print(train_data.groupby('sarcastic')['sarcastic'].count())"
   ],
   "metadata": {
    "collapsed": false,
    "ExecuteTime": {
     "end_time": "2023-09-07T12:01:24.357625500Z",
     "start_time": "2023-09-07T12:01:24.350373600Z"
    }
   },
   "id": "a219e9353eebb0"
  },
  {
   "cell_type": "code",
   "execution_count": 5,
   "outputs": [
    {
     "data": {
      "text/plain": "<Figure size 640x480 with 1 Axes>",
      "image/png": "[encoded data removed]"
     },
     "metadata": {},
     "output_type": "display_data"
    }
   ],
   "source": [
    "# Visualize data grouped by 'sarcastic' class\n",
    "train_data['sarcastic'].value_counts().plot(kind='bar')\n",
    "plt.title('Distribution of Data by \"sarcastic\" class')\n",
    "plt.show()"
   ],
   "metadata": {
    "collapsed": false,
    "ExecuteTime": {
     "end_time": "2023-09-07T12:01:24.497284Z",
     "start_time": "2023-09-07T12:01:24.356116700Z"
    }
   },
   "id": "ff9d8d612d1b6e5d"
  },
  {
   "cell_type": "code",
   "execution_count": 6,
   "outputs": [],
   "source": [
    "# Split train-test data into 70/30 splits\n",
    "X = np.array(train_data['tweet']).astype('str')\n",
    "y = np.array(train_data['sarcastic']).astype('float32')\n",
    "\n",
    "X_train, X_test, y_train, y_test = train_test_split(X, y, train_size=0.7, random_state=False)"
   ],
   "metadata": {
    "collapsed": false,
    "ExecuteTime": {
     "end_time": "2023-09-07T12:01:24.508110400Z",
     "start_time": "2023-09-07T12:01:24.499807400Z"
    }
   },
   "id": "b2cbd36c6264250d"
  },
  {
   "cell_type": "code",
   "execution_count": 7,
   "outputs": [
    {
     "name": "stdout",
     "output_type": "stream",
     "text": [
      "Size of vocabulary: 7644\n"
     ]
    }
   ],
   "source": [
    "# Create Vectorization Layer and adapt over training data\n",
    "vectorization_layer = tf.keras.layers.TextVectorization(max_tokens=10000, output_mode='int')\n",
    "vectorization_layer.adapt(X_train)\n",
    "\n",
    "print('Size of vocabulary:', len(vectorization_layer.get_vocabulary()))"
   ],
   "metadata": {
    "collapsed": false,
    "ExecuteTime": {
     "end_time": "2023-09-07T12:01:24.878632700Z",
     "start_time": "2023-09-07T12:01:24.508110400Z"
    }
   },
   "id": "d826965f551079a3"
  },
  {
   "cell_type": "code",
   "execution_count": 8,
   "outputs": [
    {
     "name": "stdout",
     "output_type": "stream",
     "text": [
      "Model: \"sequential\"\n",
      "_________________________________________________________________\n",
      " Layer (type)                Output Shape              Param #   \n",
      "=================================================================\n",
      " text_vectorization (TextVe  (None, None)              0         \n",
      " ctorization)                                                    \n",
      "                                                                 \n",
      " embedding (Embedding)       (None, None, 64)          489216    \n",
      "                                                                 \n",
      " bidirectional (Bidirection  (None, 128)               66048     \n",
      " al)                                                             \n",
      "                                                                 \n",
      " dense (Dense)               (None, 1)                 129       \n",
      "                                                                 \n",
      "=================================================================\n",
      "Total params: 555393 (2.12 MB)\n",
      "Trainable params: 555393 (2.12 MB)\n",
      "Non-trainable params: 0 (0.00 Byte)\n",
      "_________________________________________________________________\n",
      "None\n"
     ]
    }
   ],
   "source": [
    "# Create Model\n",
    "model = tf.keras.Sequential([\n",
    "    vectorization_layer,\n",
    "    tf.keras.layers.Embedding(input_dim=len(vectorization_layer.get_vocabulary()), output_dim=64),\n",
    "    tf.keras.layers.Bidirectional(\n",
    "        tf.keras.layers.LSTM(64, dropout=0.5, kernel_regularizer=tf.keras.regularizers.l2(0.5), recurrent_regularizer=tf.keras.regularizers.l2(0.5))),\n",
    "    tf.keras.layers.Dense(1, activation='softmax')\n",
    "])\n",
    "\n",
    "model.compile(optimizer=tf.keras.optimizers.Adam(learning_rate=0.001),\n",
    "              loss=tf.keras.losses.binary_crossentropy,\n",
    "              metrics=[tf.keras.metrics.F1Score(threshold=0.5)])\n",
    "\n",
    "print(model.summary())"
   ],
   "metadata": {
    "collapsed": false,
    "ExecuteTime": {
     "end_time": "2023-09-07T12:01:25.438195300Z",
     "start_time": "2023-09-07T12:01:24.875120800Z"
    }
   },
   "id": "c487ca3e9d48e2a0"
  },
  {
   "cell_type": "code",
   "execution_count": 9,
   "outputs": [
    {
     "name": "stdout",
     "output_type": "stream",
     "text": [
      "Epoch 1/10\n",
      "54/54 [==============================] - 4s 23ms/step - loss: 94.1687 - f1_score: 0.3928 - val_loss: 42.3869 - val_f1_score: 0.3947\n",
      "Epoch 2/10\n",
      "54/54 [==============================] - 1s 14ms/step - loss: 22.8660 - f1_score: 0.3928 - val_loss: 9.8015 - val_f1_score: 0.3947\n",
      "Epoch 3/10\n",
      "54/54 [==============================] - 1s 12ms/step - loss: 5.2935 - f1_score: 0.3928 - val_loss: 2.4034 - val_f1_score: 0.3947\n",
      "Epoch 4/10\n",
      "54/54 [==============================] - 1s 13ms/step - loss: 1.4878 - f1_score: 0.3928 - val_loss: 0.9204 - val_f1_score: 0.3947\n",
      "Epoch 5/10\n",
      "54/54 [==============================] - 1s 13ms/step - loss: 0.7452 - f1_score: 0.3928 - val_loss: 0.6375 - val_f1_score: 0.3947\n",
      "Epoch 6/10\n",
      "54/54 [==============================] - 1s 12ms/step - loss: 0.6000 - f1_score: 0.3928 - val_loss: 0.5777 - val_f1_score: 0.3947\n",
      "Epoch 7/10\n",
      "54/54 [==============================] - 1s 12ms/step - loss: 0.5673 - f1_score: 0.3928 - val_loss: 0.5634 - val_f1_score: 0.3947\n",
      "Epoch 8/10\n",
      "54/54 [==============================] - 1s 13ms/step - loss: 0.5593 - f1_score: 0.3928 - val_loss: 0.5603 - val_f1_score: 0.3947\n",
      "Epoch 9/10\n",
      "54/54 [==============================] - 1s 14ms/step - loss: 0.5565 - f1_score: 0.3928 - val_loss: 0.5590 - val_f1_score: 0.3947\n",
      "Epoch 10/10\n",
      "54/54 [==============================] - 1s 13ms/step - loss: 0.5561 - f1_score: 0.3928 - val_loss: 0.5594 - val_f1_score: 0.3947\n"
     ]
    }
   ],
   "source": [
    "# Fit Model to Training Data\n",
    "history = model.fit(X_train, np.array(y_train), epochs=10, validation_split=0.3)"
   ],
   "metadata": {
    "collapsed": false,
    "ExecuteTime": {
     "end_time": "2023-09-07T12:01:35.628860200Z",
     "start_time": "2023-09-07T12:01:25.400550200Z"
    }
   },
   "id": "44f44540e37f6749"
  },
  {
   "cell_type": "code",
   "execution_count": 10,
   "outputs": [
    {
     "data": {
      "text/plain": "<Figure size 640x480 with 1 Axes>",
      "image/png": "[encoded data removed]"
     },
     "metadata": {},
     "output_type": "display_data"
    }
   ],
   "source": [
    "# Plot Error & F1 Score across epochs\n",
    "plt.plot(history.history['loss'])\n",
    "plt.plot(history.history['val_loss'])\n",
    "plt.legend(['train', 'validate'])\n",
    "plt.xlabel('Epochs')\n",
    "plt.ylabel('Loss')\n",
    "plt.title('Training Loss Chart')\n",
    "plt.show()"
   ],
   "metadata": {
    "collapsed": false,
    "ExecuteTime": {
     "end_time": "2023-09-07T12:01:35.761971500Z",
     "start_time": "2023-09-07T12:01:35.628860200Z"
    }
   },
   "id": "dcd313da03ba4657"
  },
  {
   "cell_type": "code",
   "execution_count": 11,
   "outputs": [
    {
     "name": "stdout",
     "output_type": "stream",
     "text": [
      "33/33 [==============================] - 0s 4ms/step - loss: 0.5789 - f1_score: 0.4155\n",
      "Loss:  0.5788894295692444 | F1-Score: [0.4155251]\n"
     ]
    }
   ],
   "source": [
    "# Evaluate with test data of training dataset\n",
    "loss, f1score = model.evaluate(X_test, np.array(y_test))\n",
    "print('Loss: ', loss, '| F1-Score:', f1score)"
   ],
   "metadata": {
    "collapsed": false,
    "ExecuteTime": {
     "end_time": "2023-09-07T12:01:35.994408100Z",
     "start_time": "2023-09-07T12:01:35.756448800Z"
    }
   },
   "id": "c0d1da1884f25132"
  },
  {
   "cell_type": "code",
   "execution_count": 12,
   "outputs": [],
   "source": [
    "# Breakdown test data to features and target datasets\n",
    "test_x = np.array(test_data['tweet']).astype('str')\n",
    "test_y = np.array(test_data['sarcastic']).astype('float32')"
   ],
   "metadata": {
    "collapsed": false,
    "ExecuteTime": {
     "end_time": "2023-09-07T12:01:35.995409600Z",
     "start_time": "2023-09-07T12:01:35.989398300Z"
    }
   },
   "id": "ad46195758a017a4"
  },
  {
   "cell_type": "code",
   "execution_count": 13,
   "outputs": [
    {
     "name": "stdout",
     "output_type": "stream",
     "text": [
      "44/44 [==============================] - 0s 4ms/step - loss: 0.4374 - f1_score: 0.2500\n",
      "Loss:  0.43736594915390015 | F1-Score: [0.25]\n"
     ]
    }
   ],
   "source": [
    "# Evaluate with test data\n",
    "loss, f1score = model.evaluate(test_x, test_y)\n",
    "print('Loss: ', loss, '| F1-Score:', f1score)"
   ],
   "metadata": {
    "collapsed": false,
    "ExecuteTime": {
     "end_time": "2023-09-07T12:01:36.207564200Z",
     "start_time": "2023-09-07T12:01:35.989398300Z"
    }
   },
   "id": "6bf483fa257be3f5"
  }
 ],
 "metadata": {
  "kernelspec": {
   "display_name": "Python 3",
   "language": "python",
   "name": "python3"
  },
  "language_info": {
   "codemirror_mode": {
    "name": "ipython",
    "version": 2
   },
   "file_extension": ".py",
   "mimetype": "text/x-python",
   "name": "python",
   "nbconvert_exporter": "python",
   "pygments_lexer": "ipython2",
   "version": "2.7.6"
  }
 },
 "nbformat": 4,
 "nbformat_minor": 5
}
